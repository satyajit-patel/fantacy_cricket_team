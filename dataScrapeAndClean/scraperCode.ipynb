{
 "cells": [
  {
   "cell_type": "code",
   "execution_count": 18,
   "metadata": {
    "id": "WpqYAlMfhuqv"
   },
   "outputs": [],
   "source": [
    "import pandas as pd"
   ]
  },
  {
   "cell_type": "code",
   "execution_count": 19,
   "metadata": {
    "id": "4vMgT_i6h-w6"
   },
   "outputs": [
    {
     "name": "stdout",
     "output_type": "stream",
     "text": [
      "2\n"
     ]
    }
   ],
   "source": [
    "url = 'https://www.espncricinfo.com/series/ipl-2021-1249214/most-valuable-players'\n",
    "allTable = pd.read_html(url)\n",
    "print(len(allTable))"
   ]
  },
  {
   "cell_type": "code",
   "execution_count": 21,
   "metadata": {
    "colab": {
     "base_uri": "https://localhost:8080/"
    },
    "id": "kdVrpkfRiOCK",
    "outputId": "125bfef7-3c7d-4b14-cfdd-b099488eeeae"
   },
   "outputs": [
    {
     "name": "stdout",
     "output_type": "stream",
     "text": [
      "                   Player Team  Impact/Mat  Total Impact  Matches  Runs Wkts\n",
      "0             1Avesh Khan   DC        43.6         698.7       16     5   24\n",
      "1          2Glenn Maxwell  RCB        46.5         697.9       15   513    3\n",
      "2        3Ruturaj Gaikwad  CSK        41.3         661.4       16   635    -\n",
      "3           4Prithvi Shaw   DC        43.4         651.2       15   479    -\n",
      "4         5Faf du Plessis  CSK        39.5         632.3       16   633    -\n",
      "..                    ...  ...         ...           ...      ...   ...  ...\n",
      "163        164Sachin Baby  RCB        -9.3          -9.3        1     7    -\n",
      "164         165Ben Stokes   RR        -9.4          -9.4        1     0    -\n",
      "165  166Wanindu Hasaranga  RCB        -5.9         -11.8        2     1    -\n",
      "166        167Virat Singh  SRH        -6.5         -19.5        3    15    -\n",
      "167      168Navdeep Saini  RCB       -11.1         -22.1        2     2    -\n",
      "\n",
      "[168 rows x 7 columns]\n"
     ]
    }
   ],
   "source": [
    "print(allTable[0])"
   ]
  },
  {
   "cell_type": "code",
   "execution_count": 22,
   "metadata": {
    "colab": {
     "base_uri": "https://localhost:8080/"
    },
    "id": "vGTk0FGejI9R",
    "outputId": "3dc46397-1722-450c-e26c-489fca2a5c10"
   },
   "outputs": [],
   "source": [
    "df = allTable[0]\n",
    "df.to_csv('IPL_MVP_2021.csv')"
   ]
  }
 ],
 "metadata": {
  "colab": {
   "provenance": []
  },
  "kernelspec": {
   "display_name": "Python 3 (ipykernel)",
   "language": "python",
   "name": "python3"
  },
  "language_info": {
   "codemirror_mode": {
    "name": "ipython",
    "version": 3
   },
   "file_extension": ".py",
   "mimetype": "text/x-python",
   "name": "python",
   "nbconvert_exporter": "python",
   "pygments_lexer": "ipython3",
   "version": "3.11.4"
  }
 },
 "nbformat": 4,
 "nbformat_minor": 4
}
