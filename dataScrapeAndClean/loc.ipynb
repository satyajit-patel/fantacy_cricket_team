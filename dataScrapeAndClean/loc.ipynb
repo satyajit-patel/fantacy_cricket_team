{
 "cells": [
  {
   "cell_type": "code",
   "execution_count": 2,
   "id": "fa952419-17b7-41d8-b90d-0ad2fcfb5edd",
   "metadata": {},
   "outputs": [],
   "source": [
    "import pandas as pd"
   ]
  },
  {
   "cell_type": "code",
   "execution_count": 3,
   "id": "f4025914-728a-4448-a1c4-06fd72ba0437",
   "metadata": {},
   "outputs": [
    {
     "data": {
      "text/html": [
       "<div>\n",
       "<style scoped>\n",
       "    .dataframe tbody tr th:only-of-type {\n",
       "        vertical-align: middle;\n",
       "    }\n",
       "\n",
       "    .dataframe tbody tr th {\n",
       "        vertical-align: top;\n",
       "    }\n",
       "\n",
       "    .dataframe thead th {\n",
       "        text-align: right;\n",
       "    }\n",
       "</style>\n",
       "<table border=\"1\" class=\"dataframe\">\n",
       "  <thead>\n",
       "    <tr style=\"text-align: right;\">\n",
       "      <th></th>\n",
       "      <th>Player</th>\n",
       "      <th>Team</th>\n",
       "      <th>Role</th>\n",
       "      <th>Credits</th>\n",
       "      <th>Points</th>\n",
       "    </tr>\n",
       "  </thead>\n",
       "  <tbody>\n",
       "    <tr>\n",
       "      <th>0</th>\n",
       "      <td>MSD</td>\n",
       "      <td>CSK</td>\n",
       "      <td>Keeper</td>\n",
       "      <td>11</td>\n",
       "      <td>110</td>\n",
       "    </tr>\n",
       "    <tr>\n",
       "      <th>1</th>\n",
       "      <td>Surya</td>\n",
       "      <td>MI</td>\n",
       "      <td>Batsman</td>\n",
       "      <td>12</td>\n",
       "      <td>120</td>\n",
       "    </tr>\n",
       "    <tr>\n",
       "      <th>2</th>\n",
       "      <td>Pandya</td>\n",
       "      <td>GT</td>\n",
       "      <td>Allrounder</td>\n",
       "      <td>13</td>\n",
       "      <td>130</td>\n",
       "    </tr>\n",
       "  </tbody>\n",
       "</table>\n",
       "</div>"
      ],
      "text/plain": [
       "   Player Team        Role  Credits  Points\n",
       "0     MSD  CSK      Keeper       11     110\n",
       "1   Surya   MI     Batsman       12     120\n",
       "2  Pandya   GT  Allrounder       13     130"
      ]
     },
     "execution_count": 3,
     "metadata": {},
     "output_type": "execute_result"
    }
   ],
   "source": [
    "data = {\"Player\":[\"MSD\", \"Surya\", \"Pandya\"], \"Team\":[\"CSK\", \"MI\", \"GT\"], \"Role\":[\"Keeper\", \"Batsman\", \"Allrounder\"], \"Credits\":[11, 12, 13], \"Points\":[110, 120, 130]}\n",
    "df = pd.DataFrame(data)\n",
    "df.head(3)"
   ]
  },
  {
   "cell_type": "code",
   "execution_count": 6,
   "id": "212a644e-af89-461c-9006-09e3e89e2d30",
   "metadata": {},
   "outputs": [],
   "source": [
    "df.set_index(\"Player\", inplace = True)"
   ]
  },
  {
   "cell_type": "code",
   "execution_count": 10,
   "id": "d9a4a71b-bea3-4324-8f90-02b3ca33e943",
   "metadata": {},
   "outputs": [
    {
     "name": "stdout",
     "output_type": "stream",
     "text": [
      "Team          CSK\n",
      "Role       Keeper\n",
      "Credits        11\n",
      "Points        110\n",
      "Name: MSD, dtype: object\n"
     ]
    }
   ],
   "source": [
    "# sntax => df.loc[row, column]\n",
    "print(df.loc[\"MSD\"])"
   ]
  },
  {
   "cell_type": "code",
   "execution_count": 11,
   "id": "8a63dc08-5446-4cfd-83e6-a5ce99a6737c",
   "metadata": {},
   "outputs": [
    {
     "name": "stdout",
     "output_type": "stream",
     "text": [
      "CSK\n"
     ]
    }
   ],
   "source": [
    "print(df.loc[\"MSD\", \"Team\"])"
   ]
  },
  {
   "cell_type": "code",
   "execution_count": 13,
   "id": "b4e4dd52-56bb-4fa7-8dc5-8afcb31a9022",
   "metadata": {},
   "outputs": [
    {
     "name": "stdout",
     "output_type": "stream",
     "text": [
      "Player\n",
      "MSD       CSK\n",
      "Surya      MI\n",
      "Pandya     GT\n",
      "Name: Team, dtype: object\n"
     ]
    }
   ],
   "source": [
    "# all row, only one column\n",
    "print(df.loc[:, \"Team\"])"
   ]
  },
  {
   "cell_type": "code",
   "execution_count": 14,
   "id": "f938787e-b782-417b-a43a-c30159cdcdd6",
   "metadata": {},
   "outputs": [
    {
     "name": "stdout",
     "output_type": "stream",
     "text": [
      "           Role  Points\n",
      "Player                 \n",
      "MSD      Keeper     110\n",
      "Surya   Batsman     120\n"
     ]
    }
   ],
   "source": [
    "# 2 row, 2 column\n",
    "print(df.loc[[\"MSD\", \"Surya\"], [\"Role\", \"Points\"]])"
   ]
  },
  {
   "cell_type": "code",
   "execution_count": 25,
   "id": "95ab25dd-0290-473e-b7b9-80df711bf2c5",
   "metadata": {},
   "outputs": [
    {
     "name": "stdout",
     "output_type": "stream",
     "text": [
      "Player\n",
      "Surya        Batsman\n",
      "Pandya    Allrounder\n",
      "Name: Role, dtype: object\n"
     ]
    }
   ],
   "source": [
    "# filter column\n",
    "fc = (df[\"Points\"] >= 120)\n",
    "print(df.loc[fc, \"Role\"])"
   ]
  }
 ],
 "metadata": {
  "kernelspec": {
   "display_name": "Python 3 (ipykernel)",
   "language": "python",
   "name": "python3"
  },
  "language_info": {
   "codemirror_mode": {
    "name": "ipython",
    "version": 3
   },
   "file_extension": ".py",
   "mimetype": "text/x-python",
   "name": "python",
   "nbconvert_exporter": "python",
   "pygments_lexer": "ipython3",
   "version": "3.11.4"
  }
 },
 "nbformat": 4,
 "nbformat_minor": 5
}
