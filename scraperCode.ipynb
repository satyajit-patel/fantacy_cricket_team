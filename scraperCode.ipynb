{
  "nbformat": 4,
  "nbformat_minor": 0,
  "metadata": {
    "colab": {
      "provenance": []
    },
    "kernelspec": {
      "name": "python3",
      "display_name": "Python 3"
    },
    "language_info": {
      "name": "python"
    }
  },
  "cells": [
    {
      "cell_type": "code",
      "execution_count": 1,
      "metadata": {
        "id": "WpqYAlMfhuqv"
      },
      "outputs": [],
      "source": [
        "import pandas as pd\n",
        "url = 'https://www.espncricinfo.com/series/indian-premier-league-2023-1345038/most-valuable-players'"
      ]
    },
    {
      "cell_type": "code",
      "source": [
        "allTable = pd.read_html(url)"
      ],
      "metadata": {
        "id": "4vMgT_i6h-w6"
      },
      "execution_count": 2,
      "outputs": []
    },
    {
      "cell_type": "code",
      "source": [
        "print(len(allTable))"
      ],
      "metadata": {
        "colab": {
          "base_uri": "https://localhost:8080/"
        },
        "id": "xdK2xtayiIJO",
        "outputId": "a2f7c630-4071-41f0-c203-7ce629b0d1bd"
      },
      "execution_count": 3,
      "outputs": [
        {
          "output_type": "stream",
          "name": "stdout",
          "text": [
            "2\n"
          ]
        }
      ]
    },
    {
      "cell_type": "code",
      "source": [
        "print(allTable[0])"
      ],
      "metadata": {
        "colab": {
          "base_uri": "https://localhost:8080/"
        },
        "id": "kdVrpkfRiOCK",
        "outputId": "125bfef7-3c7d-4b14-cfdd-b099488eeeae"
      },
      "execution_count": 6,
      "outputs": [
        {
          "output_type": "stream",
          "name": "stdout",
          "text": [
            "                Player  Team  Impact/Mat  Total Impact  Matches  Runs Wkts\n",
            "0        1Shubman Gill    GT        56.8         966.4       17   890    -\n",
            "1      2Faf du Plessis   RCB        59.3         831.3       14   730    -\n",
            "2         3Rashid Khan    GT        45.4         771.9       17   130   27\n",
            "3    4Yashasvi Jaiswal    RR        52.2         731.9       14   625    -\n",
            "4      5Mohammed Shami    GT        42.7         726.4       17     5   28\n",
            "..                 ...   ...         ...           ...      ...   ...  ...\n",
            "204    205Karan Sharma   LSG        -4.5          -9.0        2    12    -\n",
            "205      206Ben Stokes   CSK        -4.9          -9.8        2    15    -\n",
            "206    207Mohit Rathee  PBKS        -9.9          -9.9        1     1    -\n",
            "207  208Jaydev Unadkat   LSG        -3.9         -11.5        3     9    -\n",
            "208    209Kartik Tyagi   SRH        -4.6         -13.6        3     0    1\n",
            "\n",
            "[209 rows x 7 columns]\n"
          ]
        }
      ]
    },
    {
      "cell_type": "code",
      "source": [
        "df = allTable[0]\n",
        "df.info()"
      ],
      "metadata": {
        "colab": {
          "base_uri": "https://localhost:8080/"
        },
        "id": "vGTk0FGejI9R",
        "outputId": "3dc46397-1722-450c-e26c-489fca2a5c10"
      },
      "execution_count": 7,
      "outputs": [
        {
          "output_type": "stream",
          "name": "stdout",
          "text": [
            "<class 'pandas.core.frame.DataFrame'>\n",
            "RangeIndex: 209 entries, 0 to 208\n",
            "Data columns (total 7 columns):\n",
            " #   Column        Non-Null Count  Dtype  \n",
            "---  ------        --------------  -----  \n",
            " 0   Player        209 non-null    object \n",
            " 1   Team          209 non-null    object \n",
            " 2   Impact/Mat    209 non-null    float64\n",
            " 3   Total Impact  209 non-null    float64\n",
            " 4   Matches       209 non-null    int64  \n",
            " 5   Runs          209 non-null    int64  \n",
            " 6   Wkts          209 non-null    object \n",
            "dtypes: float64(2), int64(2), object(3)\n",
            "memory usage: 11.6+ KB\n"
          ]
        }
      ]
    },
    {
      "cell_type": "code",
      "source": [
        "df.to_csv('scraperIPL.csv')"
      ],
      "metadata": {
        "id": "iHMSlhoMjlwU"
      },
      "execution_count": 8,
      "outputs": []
    }
  ]
}