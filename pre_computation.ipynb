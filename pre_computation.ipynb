{
 "cells": [
  {
   "cell_type": "code",
   "execution_count": 44,
   "id": "c0dbd64a-c1f9-41a4-8fdd-96598ba5a635",
   "metadata": {},
   "outputs": [],
   "source": [
    "import pandas as pd"
   ]
  },
  {
   "cell_type": "code",
   "execution_count": 45,
   "id": "c65bdddd-71c1-46d5-92c4-870f2f5cae3d",
   "metadata": {},
   "outputs": [
    {
     "name": "stdout",
     "output_type": "stream",
     "text": [
      "2\n"
     ]
    }
   ],
   "source": [
    "# web scraping using pandas\n",
    "url = 'https://www.espncricinfo.com/series/ipl-2021-1249214/most-valuable-players'\n",
    "allTable = pd.read_html(url)\n",
    "print(len(allTable))"
   ]
  },
  {
   "cell_type": "code",
   "execution_count": 46,
   "id": "130b300b-6b71-454b-b978-7b15b3018baa",
   "metadata": {},
   "outputs": [
    {
     "name": "stdout",
     "output_type": "stream",
     "text": [
      "                   Player Team  Impact/Mat  Total Impact  Matches  Runs Wkts\n",
      "0             1Avesh Khan   DC        43.6         698.7       16     5   24\n",
      "1          2Glenn Maxwell  RCB        46.5         697.9       15   513    3\n",
      "2        3Ruturaj Gaikwad  CSK        41.3         661.4       16   635    -\n",
      "3           4Prithvi Shaw   DC        43.4         651.2       15   479    -\n",
      "4         5Faf du Plessis  CSK        39.5         632.3       16   633    -\n",
      "..                    ...  ...         ...           ...      ...   ...  ...\n",
      "163        164Sachin Baby  RCB        -9.3          -9.3        1     7    -\n",
      "164         165Ben Stokes   RR        -9.4          -9.4        1     0    -\n",
      "165  166Wanindu Hasaranga  RCB        -5.9         -11.8        2     1    -\n",
      "166        167Virat Singh  SRH        -6.5         -19.5        3    15    -\n",
      "167      168Navdeep Saini  RCB       -11.1         -22.1        2     2    -\n",
      "\n",
      "[168 rows x 7 columns]\n"
     ]
    }
   ],
   "source": [
    "print(allTable[0])"
   ]
  },
  {
   "cell_type": "code",
   "execution_count": 47,
   "id": "b988ae0f-b907-42d4-8ee6-96d3280b8fc8",
   "metadata": {},
   "outputs": [],
   "source": [
    "df = allTable[0]"
   ]
  },
  {
   "cell_type": "code",
   "execution_count": 48,
   "id": "f9174e8c-2365-41f3-9231-902fad76ee47",
   "metadata": {},
   "outputs": [
    {
     "name": "stdout",
     "output_type": "stream",
     "text": [
      "                Player Team  Impact/Mat  Total Impact  Matches  Runs Wkts\n",
      "0           Avesh Khan   DC        43.6         698.7       16     5   24\n",
      "1        Glenn Maxwell  RCB        46.5         697.9       15   513    3\n",
      "2      Ruturaj Gaikwad  CSK        41.3         661.4       16   635    -\n",
      "3         Prithvi Shaw   DC        43.4         651.2       15   479    -\n",
      "4       Faf du Plessis  CSK        39.5         632.3       16   633    -\n",
      "..                 ...  ...         ...           ...      ...   ...  ...\n",
      "163        Sachin Baby  RCB        -9.3          -9.3        1     7    -\n",
      "164         Ben Stokes   RR        -9.4          -9.4        1     0    -\n",
      "165  Wanindu Hasaranga  RCB        -5.9         -11.8        2     1    -\n",
      "166        Virat Singh  SRH        -6.5         -19.5        3    15    -\n",
      "167      Navdeep Saini  RCB       -11.1         -22.1        2     2    -\n",
      "\n",
      "[168 rows x 7 columns]\n"
     ]
    }
   ],
   "source": [
    "# data cleaning\n",
    "def remove_numbers(string):\n",
    "    \"\"\"\n",
    "        return re.sub() returns the result of the re.sub() function.\n",
    "        r'\\d+' is a regular expression that matches any sequence of one or more digits.\n",
    "        '' is an empty string.\n",
    "    \"\"\"\n",
    "    import re\n",
    "    return re.sub(r'\\d+', '', string)\n",
    "\n",
    "# Apply the function to the \"Player\" column\n",
    "df['Player'] = df['Player'].apply(remove_numbers)\n",
    "print(df)"
   ]
  },
  {
   "cell_type": "code",
   "execution_count": 49,
   "id": "6391ca13-ad2c-4164-ba13-2cfc3cfa006b",
   "metadata": {},
   "outputs": [
    {
     "name": "stdout",
     "output_type": "stream",
     "text": [
      "                Player Team  Total Impact  Matches  Runs Wkts\n",
      "0           Avesh Khan   DC         698.7       16     5   24\n",
      "1        Glenn Maxwell  RCB         697.9       15   513    3\n",
      "2      Ruturaj Gaikwad  CSK         661.4       16   635    -\n",
      "3         Prithvi Shaw   DC         651.2       15   479    -\n",
      "4       Faf du Plessis  CSK         632.3       16   633    -\n",
      "..                 ...  ...           ...      ...   ...  ...\n",
      "163        Sachin Baby  RCB          -9.3        1     7    -\n",
      "164         Ben Stokes   RR          -9.4        1     0    -\n",
      "165  Wanindu Hasaranga  RCB         -11.8        2     1    -\n",
      "166        Virat Singh  SRH         -19.5        3    15    -\n",
      "167      Navdeep Saini  RCB         -22.1        2     2    -\n",
      "\n",
      "[168 rows x 6 columns]\n"
     ]
    }
   ],
   "source": [
    "# Drop the unwanted \"Impact/Mat\" column\n",
    "df = df.drop('Impact/Mat', axis=1)\n",
    "print(df)"
   ]
  },
  {
   "cell_type": "code",
   "execution_count": 50,
   "id": "8a8fa990-0848-46d2-a84d-883237196255",
   "metadata": {},
   "outputs": [
    {
     "name": "stdout",
     "output_type": "stream",
     "text": [
      "                Player Team  Uptox_Points  Matches  Runs Wkts\n",
      "0           Avesh Khan   DC         698.7       16     5   24\n",
      "1        Glenn Maxwell  RCB         697.9       15   513    3\n",
      "2      Ruturaj Gaikwad  CSK         661.4       16   635    -\n",
      "3         Prithvi Shaw   DC         651.2       15   479    -\n",
      "4       Faf du Plessis  CSK         632.3       16   633    -\n",
      "..                 ...  ...           ...      ...   ...  ...\n",
      "163        Sachin Baby  RCB          -9.3        1     7    -\n",
      "164         Ben Stokes   RR          -9.4        1     0    -\n",
      "165  Wanindu Hasaranga  RCB         -11.8        2     1    -\n",
      "166        Virat Singh  SRH         -19.5        3    15    -\n",
      "167      Navdeep Saini  RCB         -22.1        2     2    -\n",
      "\n",
      "[168 rows x 6 columns]\n"
     ]
    }
   ],
   "source": [
    "# Rename the \"Total Impact\" column to \"Uptox_Points\"\n",
    "df = df.rename(columns={'Total Impact': 'Uptox_Points'})\n",
    "print(df)"
   ]
  },
  {
   "cell_type": "code",
   "execution_count": 51,
   "id": "f2acdbdf-b995-450b-b96d-51d7c4538a1a",
   "metadata": {},
   "outputs": [
    {
     "name": "stdout",
     "output_type": "stream",
     "text": [
      "                Player Team  Uptox_Points  Matches  Runs Wkts\n",
      "0           Avesh Khan   DC         698.7       16     5   24\n",
      "1        Glenn Maxwell  RCB         697.9       15   513    3\n",
      "2      Ruturaj Gaikwad  CSK         661.4       16   635    0\n",
      "3         Prithvi Shaw   DC         651.2       15   479    0\n",
      "4       Faf du Plessis  CSK         632.3       16   633    0\n",
      "..                 ...  ...           ...      ...   ...  ...\n",
      "163        Sachin Baby  RCB          -9.3        1     7    0\n",
      "164         Ben Stokes   RR          -9.4        1     0    0\n",
      "165  Wanindu Hasaranga  RCB         -11.8        2     1    0\n",
      "166        Virat Singh  SRH         -19.5        3    15    0\n",
      "167      Navdeep Saini  RCB         -22.1        2     2    0\n",
      "\n",
      "[168 rows x 6 columns]\n"
     ]
    }
   ],
   "source": [
    "# Replace rows(_) with 0 of \"Wkts\" column\n",
    "df['Wkts'] = df['Wkts'].replace('-', 0)\n",
    "print(df)"
   ]
  },
  {
   "cell_type": "code",
   "execution_count": 52,
   "id": "28dbe14a-6df7-43d0-8964-e302dbae91b2",
   "metadata": {},
   "outputs": [
    {
     "name": "stdout",
     "output_type": "stream",
     "text": [
      "                  Player  Uptox_Points  Runs Wkts\n",
      "14        Jasprit Bumrah         498.5    16   21\n",
      "26        Kieron Pollard         413.9   245    5\n",
      "27          Rahul Chahar         407.2    14   13\n",
      "29          Rohit Sharma         401.2   381    0\n",
      "36      Suryakumar Yadav         370.8   317    0\n",
      "40           Trent Boult         345.1     1   13\n",
      "56       Quinton de Kock         242.2   297    0\n",
      "65         Krunal Pandya         213.2   143    5\n",
      "67          Ishan Kishan         199.1   241    0\n",
      "82   Nathan Coulter-Nile         143.6     4    7\n",
      "95        Saurabh Tiwary         114.7   115    0\n",
      "100         Jayant Yadav         107.6    34    2\n",
      "104        James Neesham          79.9     0    5\n",
      "105        Hardik Pandya          78.8   127    0\n",
      "110           Chris Lynn          64.3    49    0\n",
      "111         Marco Jansen          60.6     0    2\n",
      "114           Adam Milne          57.2    16    3\n",
      "136     Anmolpreet Singh          19.6    16    0\n",
      "139        Piyush Chawla          16.2     0    1\n",
      "148      Dhawal Kulkarni           7.8     0    0\n"
     ]
    }
   ],
   "source": [
    "fc = (df[\"Team\"] == \"MI\") # fc i.e filter condition\n",
    "mi = df.loc[fc, [\"Player\", \"Uptox_Points\", \"Runs\", \"Wkts\"]]\n",
    "print(mi.sort_values(by = \"Uptox_Points\", ascending = False))"
   ]
  },
  {
   "cell_type": "code",
   "execution_count": 53,
   "id": "b14eed4e-cb53-4e82-885b-c98fa70a39b8",
   "metadata": {},
   "outputs": [
    {
     "name": "stdout",
     "output_type": "stream",
     "text": [
      "               Player        Role Team  Credits  Points\n",
      "0       Cameron Green  Allrounder   MI      9.0   687.4\n",
      "1    Suryakumar Yadav      Batter   MI      9.5   679.8\n",
      "2       Piyush Chawla      Bowler   MI      8.0   657.5\n",
      "3        Ishan Kishan      Keeper   MI     10.5   458.9\n",
      "4         Tilak Varma      Batter   MI      9.0   427.1\n",
      "5   Jason Behrendorff      Bowler   MI      9.0   373.4\n",
      "6       Akash Madhwal      Bowler   MI      9.0   290.5\n",
      "7        Rohit Sharma      Batter   MI      8.5   284.6\n",
      "8           Tim David      Batter   MI      8.5   210.9\n",
      "9        Chris Jordan      Bowler   MI     10.5    64.2\n",
      "10      Nehal Wadhera      Bowler   MI     10.5   226.2\n",
      "11       Jofra Archer  Allrounder   MI     10.5    92.7\n"
     ]
    }
   ],
   "source": [
    "mi_data = {\"Player\":[\"Cameron Green\", \"Suryakumar Yadav\", \"Piyush Chawla\", \"Ishan Kishan\", \"Tilak Varma\", \"Jason Behrendorff\", \"Akash Madhwal\", \"Rohit Sharma\", \"Tim David\", \"Chris Jordan\", \"Nehal Wadhera\", \"Jofra Archer\"], \n",
    "        \"Role\":[\"Allrounder\", \"Batter\", \"Bowler\", \"Keeper\", \"Batter\", \"Bowler\", \"Bowler\", \"Batter\", \"Batter\", \"Bowler\", \"Bowler\", \"Allrounder\"],\n",
    "        \"Team\":[\"MI\", \"MI\", \"MI\", \"MI\", \"MI\", \"MI\", \"MI\", \"MI\", \"MI\", \"MI\", \"MI\", \"MI\"],  \n",
    "        \"Credits\":[9.0, 9.5, 8.0, 10.5, 9.0, 9.0, 9.0, 8.5, 8.5, 10.5, 10.5, 10.5], \n",
    "        \"Points\":[687.4, 679.8, 657.5, 458.9, 427.1, 373.4, 290.5, 284.6, 210.9, 64.2, 226.2, 92.7]}\n",
    "mi_df = pd.DataFrame(mi_data)\n",
    "print(mi_df)"
   ]
  },
  {
   "cell_type": "code",
   "execution_count": 54,
   "id": "6a1d063f-fd64-44fa-a308-e85e7979fde2",
   "metadata": {},
   "outputs": [
    {
     "name": "stdout",
     "output_type": "stream",
     "text": [
      "              Player  Uptox_Points  Runs Wkts\n",
      "2    Ruturaj Gaikwad         661.4   635    0\n",
      "4     Faf du Plessis         632.3   633    0\n",
      "10   Ravindra Jadeja         576.2   227   13\n",
      "17    Shardul Thakur         463.2     5   21\n",
      "20         Moeen Ali         448.0   357    6\n",
      "25     Deepak Chahar         423.2     1   14\n",
      "46      Dwayne Bravo         314.0    47   14\n",
      "47        Sam Curran         311.1    56    9\n",
      "49     Ambati Rayudu         299.2   257    0\n",
      "58    Josh Hazlewood         237.4     0   11\n",
      "86      Suresh Raina         129.3   160    0\n",
      "87     Robin Uthappa         129.1   115    0\n",
      "96       Lungi Ngidi         114.7     0    5\n",
      "119         MS Dhoni          48.0   114    0\n",
      "128          KM Asif          36.4     0    1\n",
      "137      Imran Tahir          17.4     0    2\n"
     ]
    }
   ],
   "source": [
    "fc = (df[\"Team\"] == \"CSK\") # filter condition\n",
    "csk = df.loc[fc, [\"Player\", \"Uptox_Points\", \"Runs\", \"Wkts\"]]\n",
    "print(csk.sort_values(by = \"Uptox_Points\", ascending = False))"
   ]
  },
  {
   "cell_type": "code",
   "execution_count": 55,
   "id": "b66e29fb-14c5-42a1-899a-075dec6c5e19",
   "metadata": {},
   "outputs": [
    {
     "name": "stdout",
     "output_type": "stream",
     "text": [
      "                 Player        Role Team  Credits  Points\n",
      "0       Ravindra Jadeja  Allrounder  CSK      9.0   718.6\n",
      "1       Ruturaj Gaikwad      Batter  CSK      9.5   651.9\n",
      "2          Devon Conway      Batter  CSK      8.0   599.9\n",
      "3      Tushar Deshpande      Bowler  CSK     10.5   402.8\n",
      "4        Ajinkya Rahane      Batter  CSK      9.0   399.5\n",
      "5           Shivam Dube  Allrounder  CSK      9.0   391.9\n",
      "6             Moeen Ali  Allrounder  CSK      9.0   338.0\n",
      "7   Matheesha Pathirana      Bowler  CSK      8.5   315.5\n",
      "8         Deepak Chahar      Bowler  CSK      8.5   304.6\n",
      "9    Maheesh Theekshana      Bowler  CSK     10.5   271.1\n",
      "10             MS Dhoni      Keeper  CSK     10.5   141.9\n",
      "11        Ambati Rayudu      Batter  CSK     10.5   141.2\n"
     ]
    }
   ],
   "source": [
    "csk_data = {\"Player\":[\"Ravindra Jadeja\", \"Ruturaj Gaikwad\", \"Devon Conway\", \"Tushar Deshpande\", \"Ajinkya Rahane\", \"Shivam Dube\", \"Moeen Ali\", \"Matheesha Pathirana\", \"Deepak Chahar\", \"Maheesh Theekshana\", \"MS Dhoni\", \"Ambati Rayudu\"], \n",
    "        \"Role\":[\"Allrounder\", \"Batter\", \"Batter\", \"Bowler\", \"Batter\", \"Allrounder\", \"Allrounder\", \"Bowler\", \"Bowler\", \"Bowler\", \"Keeper\", \"Batter\"],\n",
    "        \"Team\":[\"CSK\", \"CSK\", \"CSK\", \"CSK\", \"CSK\", \"CSK\", \"CSK\", \"CSK\", \"CSK\", \"CSK\", \"CSK\", \"CSK\"],  \n",
    "        \"Credits\":[9.0, 9.5, 8.0, 10.5, 9.0, 9.0, 9.0, 8.5, 8.5, 10.5, 10.5, 10.5], \n",
    "        \"Points\":[718.6, 651.9, 599.9, 402.8, 399.5, 391.9, 338.0, 315.5, 304.6, 271.1, 141.9, 141.2]}\n",
    "csk_df = pd.DataFrame(csk_data)\n",
    "print(csk_df)"
   ]
  },
  {
   "cell_type": "code",
   "execution_count": 56,
   "id": "4572a051-fb46-4177-b36d-b97a58cf0b00",
   "metadata": {},
   "outputs": [
    {
     "name": "stdout",
     "output_type": "stream",
     "text": [
      "                 Player        Role Team  Credits  Points\n",
      "0         Cameron Green  Allrounder   MI      9.0   687.4\n",
      "1      Suryakumar Yadav      Batter   MI      9.5   679.8\n",
      "2         Piyush Chawla      Bowler   MI      8.0   657.5\n",
      "3          Ishan Kishan      Keeper   MI     10.5   458.9\n",
      "4           Tilak Varma      Batter   MI      9.0   427.1\n",
      "5     Jason Behrendorff      Bowler   MI      9.0   373.4\n",
      "6         Akash Madhwal      Bowler   MI      9.0   290.5\n",
      "7          Rohit Sharma      Batter   MI      8.5   284.6\n",
      "8             Tim David      Batter   MI      8.5   210.9\n",
      "9          Chris Jordan      Bowler   MI     10.5    64.2\n",
      "10        Nehal Wadhera      Bowler   MI     10.5   226.2\n",
      "11         Jofra Archer  Allrounder   MI     10.5    92.7\n",
      "0       Ravindra Jadeja  Allrounder  CSK      9.0   718.6\n",
      "1       Ruturaj Gaikwad      Batter  CSK      9.5   651.9\n",
      "2          Devon Conway      Batter  CSK      8.0   599.9\n",
      "3      Tushar Deshpande      Bowler  CSK     10.5   402.8\n",
      "4        Ajinkya Rahane      Batter  CSK      9.0   399.5\n",
      "5           Shivam Dube  Allrounder  CSK      9.0   391.9\n",
      "6             Moeen Ali  Allrounder  CSK      9.0   338.0\n",
      "7   Matheesha Pathirana      Bowler  CSK      8.5   315.5\n",
      "8         Deepak Chahar      Bowler  CSK      8.5   304.6\n",
      "9    Maheesh Theekshana      Bowler  CSK     10.5   271.1\n",
      "10             MS Dhoni      Keeper  CSK     10.5   141.9\n",
      "11        Ambati Rayudu      Batter  CSK     10.5   141.2\n"
     ]
    }
   ],
   "source": [
    "# Merge the two tables on the common column names\n",
    "merged_df = pd.concat([mi_df, csk_df],axis=0) # axis = 0 i.e change on rows, not in column names\n",
    "print(merged_df)"
   ]
  },
  {
   "cell_type": "code",
   "execution_count": 57,
   "id": "39aaf2fa-15c0-434e-8d43-6e50209e4377",
   "metadata": {},
   "outputs": [],
   "source": [
    "merged_df.to_csv(\"sample_twoTteams.csv\")"
   ]
  }
 ],
 "metadata": {
  "kernelspec": {
   "display_name": "Python 3 (ipykernel)",
   "language": "python",
   "name": "python3"
  },
  "language_info": {
   "codemirror_mode": {
    "name": "ipython",
    "version": 3
   },
   "file_extension": ".py",
   "mimetype": "text/x-python",
   "name": "python",
   "nbconvert_exporter": "python",
   "pygments_lexer": "ipython3",
   "version": "3.11.4"
  }
 },
 "nbformat": 4,
 "nbformat_minor": 5
}
